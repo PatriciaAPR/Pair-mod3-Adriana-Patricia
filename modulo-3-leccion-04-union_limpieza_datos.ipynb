{
 "cells": [
  {
   "cell_type": "code",
   "execution_count": 1,
   "metadata": {},
   "outputs": [],
   "source": [
    "import pandas as pd\n",
    "import numpy as np\n",
    "pd.set_option('display.max_columns', None)"
   ]
  },
  {
   "cell_type": "code",
   "execution_count": 2,
   "metadata": {},
   "outputs": [],
   "source": [
    "df_1= pd.read_csv(\"Modulo_3/Pair/Pair-mod3-Adriana-Patricia/File/world-data-2023_part1.csv\", index_col=0)\n",
    "df_2 = pd.read_csv(\"Modulo_3/Pair/Pair-mod3-Adriana-Patricia/File/world-data-2023_part2.csv\", index_col=0)"
   ]
  },
  {
   "cell_type": "code",
   "execution_count": 3,
   "metadata": {},
   "outputs": [
    {
     "data": {
      "text/plain": [
       "Index(['Country', 'Density\\n(P/Km2)', 'Abbreviation', 'Agricultural Land( %)',\n",
       "       'Land Area(Km2)', 'Armed Forces size', 'Birth Rate', 'Calling Code',\n",
       "       'Capital/Major City', 'Co2-Emissions', 'CPI', 'CPI Change (%)',\n",
       "       'Currency-Code', 'Fertility Rate', 'Forested Area (%)',\n",
       "       'Gasoline Price'],\n",
       "      dtype='object')"
      ]
     },
     "execution_count": 3,
     "metadata": {},
     "output_type": "execute_result"
    }
   ],
   "source": [
    "df_1.columns"
   ]
  },
  {
   "cell_type": "code",
   "execution_count": 4,
   "metadata": {},
   "outputs": [
    {
     "data": {
      "text/plain": [
       "Index(['GDP', 'Gross primary education enrollment (%)',\n",
       "       'Gross tertiary education enrollment (%)', 'Infant mortality',\n",
       "       'Largest city', 'Life expectancy', 'Maternal mortality ratio',\n",
       "       'Minimum wage', 'Official language', 'Out of pocket health expenditure',\n",
       "       'Physicians per thousand', 'Population',\n",
       "       'Population: Labor force participation (%)', 'Tax revenue (%)',\n",
       "       'Total tax rate', 'Unemployment rate', 'Urban_population', 'country',\n",
       "       'coordinates'],\n",
       "      dtype='object')"
      ]
     },
     "execution_count": 4,
     "metadata": {},
     "output_type": "execute_result"
    }
   ],
   "source": [
    "df_2.columns"
   ]
  },
  {
   "cell_type": "code",
   "execution_count": 5,
   "metadata": {},
   "outputs": [
    {
     "name": "stdout",
     "output_type": "stream",
     "text": [
      "<class 'pandas.core.frame.DataFrame'>\n",
      "Index: 195 entries, 0 to 194\n",
      "Data columns (total 16 columns):\n",
      " #   Column                 Non-Null Count  Dtype  \n",
      "---  ------                 --------------  -----  \n",
      " 0   Country                195 non-null    object \n",
      " 1   Density\n",
      "(P/Km2)        195 non-null    object \n",
      " 2   Abbreviation           188 non-null    object \n",
      " 3   Agricultural Land( %)  188 non-null    object \n",
      " 4   Land Area(Km2)         194 non-null    object \n",
      " 5   Armed Forces size      171 non-null    object \n",
      " 6   Birth Rate             189 non-null    float64\n",
      " 7   Calling Code           194 non-null    float64\n",
      " 8   Capital/Major City     192 non-null    object \n",
      " 9   Co2-Emissions          188 non-null    object \n",
      " 10  CPI                    178 non-null    object \n",
      " 11  CPI Change (%)         179 non-null    object \n",
      " 12  Currency-Code          180 non-null    object \n",
      " 13  Fertility Rate         188 non-null    float64\n",
      " 14  Forested Area (%)      188 non-null    object \n",
      " 15  Gasoline Price         175 non-null    object \n",
      "dtypes: float64(3), object(13)\n",
      "memory usage: 25.9+ KB\n"
     ]
    }
   ],
   "source": [
    "df_1.info()"
   ]
  },
  {
   "cell_type": "code",
   "execution_count": 6,
   "metadata": {},
   "outputs": [
    {
     "name": "stdout",
     "output_type": "stream",
     "text": [
      "<class 'pandas.core.frame.DataFrame'>\n",
      "Index: 195 entries, 0 to 194\n",
      "Data columns (total 19 columns):\n",
      " #   Column                                     Non-Null Count  Dtype  \n",
      "---  ------                                     --------------  -----  \n",
      " 0   GDP                                        193 non-null    object \n",
      " 1   Gross primary education enrollment (%)     188 non-null    object \n",
      " 2   Gross tertiary education enrollment (%)    183 non-null    object \n",
      " 3   Infant mortality                           189 non-null    float64\n",
      " 4   Largest city                               189 non-null    object \n",
      " 5   Life expectancy                            187 non-null    float64\n",
      " 6   Maternal mortality ratio                   181 non-null    float64\n",
      " 7   Minimum wage                               150 non-null    object \n",
      " 8   Official language                          190 non-null    object \n",
      " 9   Out of pocket health expenditure           188 non-null    object \n",
      " 10  Physicians per thousand                    188 non-null    float64\n",
      " 11  Population                                 194 non-null    object \n",
      " 12  Population: Labor force participation (%)  176 non-null    object \n",
      " 13  Tax revenue (%)                            169 non-null    object \n",
      " 14  Total tax rate                             183 non-null    object \n",
      " 15  Unemployment rate                          176 non-null    object \n",
      " 16  Urban_population                           190 non-null    object \n",
      " 17  country                                    195 non-null    object \n",
      " 18  coordinates                                195 non-null    object \n",
      "dtypes: float64(4), object(15)\n",
      "memory usage: 30.5+ KB\n"
     ]
    }
   ],
   "source": [
    "df_2.info()"
   ]
  },
  {
   "cell_type": "code",
   "execution_count": 7,
   "metadata": {},
   "outputs": [],
   "source": [
    "# Columnas identificadas como identicas: Country (OJO: hay una con la primnera letra en mayuscula y otra en minuscula)\n"
   ]
  },
  {
   "cell_type": "code",
   "execution_count": null,
   "metadata": {},
   "outputs": [],
   "source": [
    "# Utiliza el método de unión de Pandas que consideres más adecuado para combinar los datos de ambos años en un solo DataFrame.\n",
    "# Seleccionamos el merge porque tenemos 2 columnas de unión (Country) con el mismo tipo de datos "
   ]
  },
  {
   "cell_type": "code",
   "execution_count": 9,
   "metadata": {},
   "outputs": [],
   "source": [
    "df_final = df_1.merge(df_2, left_on=\"Country\", right_on=\"country\", how=\"left\", suffixes=[\"_l\", \"_r\"])"
   ]
  },
  {
   "cell_type": "code",
   "execution_count": 11,
   "metadata": {},
   "outputs": [
    {
     "name": "stdout",
     "output_type": "stream",
     "text": [
      "<class 'pandas.core.frame.DataFrame'>\n",
      "RangeIndex: 195 entries, 0 to 194\n",
      "Data columns (total 35 columns):\n",
      " #   Column                                     Non-Null Count  Dtype  \n",
      "---  ------                                     --------------  -----  \n",
      " 0   Country                                    195 non-null    object \n",
      " 1   Density\n",
      "(P/Km2)                            195 non-null    object \n",
      " 2   Abbreviation                               188 non-null    object \n",
      " 3   Agricultural Land( %)                      188 non-null    object \n",
      " 4   Land Area(Km2)                             194 non-null    object \n",
      " 5   Armed Forces size                          171 non-null    object \n",
      " 6   Birth Rate                                 189 non-null    float64\n",
      " 7   Calling Code                               194 non-null    float64\n",
      " 8   Capital/Major City                         192 non-null    object \n",
      " 9   Co2-Emissions                              188 non-null    object \n",
      " 10  CPI                                        178 non-null    object \n",
      " 11  CPI Change (%)                             179 non-null    object \n",
      " 12  Currency-Code                              180 non-null    object \n",
      " 13  Fertility Rate                             188 non-null    float64\n",
      " 14  Forested Area (%)                          188 non-null    object \n",
      " 15  Gasoline Price                             175 non-null    object \n",
      " 16  GDP                                        193 non-null    object \n",
      " 17  Gross primary education enrollment (%)     188 non-null    object \n",
      " 18  Gross tertiary education enrollment (%)    183 non-null    object \n",
      " 19  Infant mortality                           189 non-null    float64\n",
      " 20  Largest city                               189 non-null    object \n",
      " 21  Life expectancy                            187 non-null    float64\n",
      " 22  Maternal mortality ratio                   181 non-null    float64\n",
      " 23  Minimum wage                               150 non-null    object \n",
      " 24  Official language                          190 non-null    object \n",
      " 25  Out of pocket health expenditure           188 non-null    object \n",
      " 26  Physicians per thousand                    188 non-null    float64\n",
      " 27  Population                                 194 non-null    object \n",
      " 28  Population: Labor force participation (%)  176 non-null    object \n",
      " 29  Tax revenue (%)                            169 non-null    object \n",
      " 30  Total tax rate                             183 non-null    object \n",
      " 31  Unemployment rate                          176 non-null    object \n",
      " 32  Urban_population                           190 non-null    object \n",
      " 33  country                                    195 non-null    object \n",
      " 34  coordinates                                195 non-null    object \n",
      "dtypes: float64(7), object(28)\n",
      "memory usage: 53.4+ KB\n"
     ]
    }
   ],
   "source": [
    "df_final.info()"
   ]
  },
  {
   "cell_type": "code",
   "execution_count": null,
   "metadata": {},
   "outputs": [],
   "source": [
    "# Borramos la columna de country utilizando el drop y el inplace para que se guarde en el Dataframe\n",
    "df_final.drop(\"country\", axis=1, inplace=True)"
   ]
  },
  {
   "cell_type": "code",
   "execution_count": 16,
   "metadata": {},
   "outputs": [
    {
     "name": "stdout",
     "output_type": "stream",
     "text": [
      "<class 'pandas.core.frame.DataFrame'>\n",
      "RangeIndex: 195 entries, 0 to 194\n",
      "Data columns (total 34 columns):\n",
      " #   Column                                     Non-Null Count  Dtype  \n",
      "---  ------                                     --------------  -----  \n",
      " 0   Country                                    195 non-null    object \n",
      " 1   Density\n",
      "(P/Km2)                            195 non-null    object \n",
      " 2   Abbreviation                               188 non-null    object \n",
      " 3   Agricultural Land( %)                      188 non-null    object \n",
      " 4   Land Area(Km2)                             194 non-null    object \n",
      " 5   Armed Forces size                          171 non-null    object \n",
      " 6   Birth Rate                                 189 non-null    float64\n",
      " 7   Calling Code                               194 non-null    float64\n",
      " 8   Capital/Major City                         192 non-null    object \n",
      " 9   Co2-Emissions                              188 non-null    object \n",
      " 10  CPI                                        178 non-null    object \n",
      " 11  CPI Change (%)                             179 non-null    object \n",
      " 12  Currency-Code                              180 non-null    object \n",
      " 13  Fertility Rate                             188 non-null    float64\n",
      " 14  Forested Area (%)                          188 non-null    object \n",
      " 15  Gasoline Price                             175 non-null    object \n",
      " 16  GDP                                        193 non-null    object \n",
      " 17  Gross primary education enrollment (%)     188 non-null    object \n",
      " 18  Gross tertiary education enrollment (%)    183 non-null    object \n",
      " 19  Infant mortality                           189 non-null    float64\n",
      " 20  Largest city                               189 non-null    object \n",
      " 21  Life expectancy                            187 non-null    float64\n",
      " 22  Maternal mortality ratio                   181 non-null    float64\n",
      " 23  Minimum wage                               150 non-null    object \n",
      " 24  Official language                          190 non-null    object \n",
      " 25  Out of pocket health expenditure           188 non-null    object \n",
      " 26  Physicians per thousand                    188 non-null    float64\n",
      " 27  Population                                 194 non-null    object \n",
      " 28  Population: Labor force participation (%)  176 non-null    object \n",
      " 29  Tax revenue (%)                            169 non-null    object \n",
      " 30  Total tax rate                             183 non-null    object \n",
      " 31  Unemployment rate                          176 non-null    object \n",
      " 32  Urban_population                           190 non-null    object \n",
      " 33  coordinates                                195 non-null    object \n",
      "dtypes: float64(7), object(27)\n",
      "memory usage: 51.9+ KB\n"
     ]
    }
   ],
   "source": [
    "df_final.info()"
   ]
  },
  {
   "cell_type": "code",
   "execution_count": null,
   "metadata": {},
   "outputs": [],
   "source": []
  },
  {
   "cell_type": "code",
   "execution_count": null,
   "metadata": {},
   "outputs": [],
   "source": []
  },
  {
   "cell_type": "code",
   "execution_count": null,
   "metadata": {},
   "outputs": [],
   "source": []
  },
  {
   "cell_type": "code",
   "execution_count": null,
   "metadata": {},
   "outputs": [],
   "source": []
  }
 ],
 "metadata": {
  "kernelspec": {
   "display_name": "promo49",
   "language": "python",
   "name": "python3"
  },
  "language_info": {
   "codemirror_mode": {
    "name": "ipython",
    "version": 3
   },
   "file_extension": ".py",
   "mimetype": "text/x-python",
   "name": "python",
   "nbconvert_exporter": "python",
   "pygments_lexer": "ipython3",
   "version": "3.11.11"
  }
 },
 "nbformat": 4,
 "nbformat_minor": 2
}
