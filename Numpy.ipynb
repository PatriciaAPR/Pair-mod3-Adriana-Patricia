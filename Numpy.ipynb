{
 "cells": [
  {
   "cell_type": "code",
   "execution_count": 1,
   "metadata": {},
   "outputs": [],
   "source": [
    "import numpy as np"
   ]
  },
  {
   "cell_type": "code",
   "execution_count": 2,
   "metadata": {},
   "outputs": [],
   "source": [
    "# Crea un array 1D con 50 valores aleatorio del 10 al 99. Accede a los elementos en las posiciones múltiplos de 5.\n",
    "array_1D =np.random.randint (10, 100,size=50)"
   ]
  },
  {
   "cell_type": "code",
   "execution_count": 3,
   "metadata": {},
   "outputs": [
    {
     "data": {
      "text/plain": [
       "array([87, 76, 58, 79, 72, 24, 47, 69, 56, 76, 21, 68, 63, 67, 47, 14, 90,\n",
       "       40, 51, 92, 18, 40, 95, 20, 17, 88, 39, 33, 55, 59, 50, 77, 33, 42,\n",
       "       13, 13, 11, 19, 34, 21, 52, 61, 98, 66, 85, 22, 69, 82, 15, 60],\n",
       "      dtype=int32)"
      ]
     },
     "execution_count": 3,
     "metadata": {},
     "output_type": "execute_result"
    }
   ],
   "source": [
    "array_1D"
   ]
  },
  {
   "cell_type": "code",
   "execution_count": 4,
   "metadata": {},
   "outputs": [
    {
     "data": {
      "text/plain": [
       "array([87, 24, 21, 14, 18, 88, 50, 13, 52, 22], dtype=int32)"
      ]
     },
     "execution_count": 4,
     "metadata": {},
     "output_type": "execute_result"
    }
   ],
   "source": [
    "#Accede a los elementos en las posiciones múltiplos de 5.\n",
    "array_1D [::5]"
   ]
  },
  {
   "cell_type": "code",
   "execution_count": 5,
   "metadata": {},
   "outputs": [],
   "source": [
    "#Crea un array 1D con 30 valores aleatorios del 1 al 20 (ambos incluidos). Utiliza indexación para obtener los elementos en las posiciones impares.\n",
    "array_1D_2 =np.random.randint (1, 21,size=30)"
   ]
  },
  {
   "cell_type": "code",
   "execution_count": 6,
   "metadata": {},
   "outputs": [
    {
     "data": {
      "text/plain": [
       "array([ 6, 16, 18, 17, 17,  8, 20,  4,  9,  9, 15, 11, 12,  9, 14, 16,  2,\n",
       "        1,  8, 17, 18, 10,  9, 16,  5,  2, 13, 18,  6,  7], dtype=int32)"
      ]
     },
     "execution_count": 6,
     "metadata": {},
     "output_type": "execute_result"
    }
   ],
   "source": [
    "array_1D_2"
   ]
  },
  {
   "cell_type": "code",
   "execution_count": 7,
   "metadata": {},
   "outputs": [
    {
     "data": {
      "text/plain": [
       "array([16, 17,  8,  4,  9, 11,  9, 16,  1, 17, 10, 16,  2, 18,  7],\n",
       "      dtype=int32)"
      ]
     },
     "execution_count": 7,
     "metadata": {},
     "output_type": "execute_result"
    }
   ],
   "source": [
    "array_1D_2[1::2]"
   ]
  },
  {
   "cell_type": "code",
   "execution_count": 8,
   "metadata": {},
   "outputs": [],
   "source": [
    "#Crea un array 2D de forma (4, 6) con números aleatorios decimales (no deben estar comprendidos solo entre 0 y 1). "
   ]
  },
  {
   "cell_type": "code",
   "execution_count": 9,
   "metadata": {},
   "outputs": [
    {
     "name": "stdout",
     "output_type": "stream",
     "text": [
      "[[0.6833897  0.59559716 0.78087699 0.94515717 0.2545111  0.61248215]\n",
      " [0.13843309 0.8725672  0.4452142  0.43184321 0.82729184 0.26373966]\n",
      " [0.51752224 0.809519   0.4199004  0.77462798 0.20925248 0.28610668]\n",
      " [0.00595197 0.60615299 0.16769593 0.49032293 0.32493691 0.32944322]]\n"
     ]
    }
   ],
   "source": [
    "a=np.random.rand (4,6)\n",
    "print(a)"
   ]
  },
  {
   "cell_type": "code",
   "execution_count": 10,
   "metadata": {},
   "outputs": [
    {
     "name": "stdout",
     "output_type": "stream",
     "text": [
      "[[12  4 18 15 11  7]\n",
      " [ 2 10  7  3 10  2]\n",
      " [14 10  2  4  7  8]\n",
      " [12  6  8 10  3  4]]\n"
     ]
    }
   ],
   "source": [
    "b=np.random.randint(1,20,(4,6))\n",
    "print(b)"
   ]
  },
  {
   "cell_type": "code",
   "execution_count": 11,
   "metadata": {},
   "outputs": [
    {
     "name": "stdout",
     "output_type": "stream",
     "text": [
      "[[12.6833897   4.59559716 18.78087699 15.94515717 11.2545111   7.61248215]\n",
      " [ 2.13843309 10.8725672   7.4452142   3.43184321 10.82729184  2.26373966]\n",
      " [14.51752224 10.809519    2.4199004   4.77462798  7.20925248  8.28610668]\n",
      " [12.00595197  6.60615299  8.16769593 10.49032293  3.32493691  4.32944322]]\n"
     ]
    }
   ],
   "source": [
    "array_2D=a+b\n",
    "print(array_2D)"
   ]
  },
  {
   "cell_type": "code",
   "execution_count": 12,
   "metadata": {},
   "outputs": [],
   "source": [
    "# Accede a la última fila de la matriz. Los decimales deben estar redondeados a 2 decimales."
   ]
  },
  {
   "cell_type": "code",
   "execution_count": 14,
   "metadata": {},
   "outputs": [],
   "source": [
    "ultima_fila = np.round(array_2D[-1], 2)"
   ]
  },
  {
   "cell_type": "code",
   "execution_count": 15,
   "metadata": {},
   "outputs": [
    {
     "name": "stdout",
     "output_type": "stream",
     "text": [
      "[12.01  6.61  8.17 10.49  3.32  4.33]\n"
     ]
    }
   ],
   "source": [
    "print(ultima_fila)"
   ]
  }
 ],
 "metadata": {
  "kernelspec": {
   "display_name": "promo49",
   "language": "python",
   "name": "python3"
  },
  "language_info": {
   "codemirror_mode": {
    "name": "ipython",
    "version": 3
   },
   "file_extension": ".py",
   "mimetype": "text/x-python",
   "name": "python",
   "nbconvert_exporter": "python",
   "pygments_lexer": "ipython3",
   "version": "3.11.11"
  }
 },
 "nbformat": 4,
 "nbformat_minor": 2
}
