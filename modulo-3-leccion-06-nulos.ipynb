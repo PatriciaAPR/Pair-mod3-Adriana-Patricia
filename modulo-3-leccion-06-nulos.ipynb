{
 "cells": [
  {
   "cell_type": "code",
   "execution_count": 1,
   "metadata": {},
   "outputs": [],
   "source": [
    "# Tratamiento de datos\n",
    "# -----------------------------------------------------------------------\n",
    "import pandas as pd\n",
    "import numpy as np"
   ]
  },
  {
   "cell_type": "code",
   "execution_count": 2,
   "metadata": {},
   "outputs": [],
   "source": [
    "# Imputación de nulos usando métodos avanzados estadísticos\n",
    "# -----------------------------------------------------------------------\n",
    "from sklearn.impute import SimpleImputer\n",
    "from sklearn.experimental import enable_iterative_imputer\n",
    "from sklearn.impute import IterativeImputer\n",
    "from sklearn.impute import KNNImputer"
   ]
  },
  {
   "cell_type": "code",
   "execution_count": 3,
   "metadata": {},
   "outputs": [],
   "source": [
    "# Librerías de visualización\n",
    "# -----------------------------------------------------------------------\n",
    "import seaborn as sns\n",
    "import matplotlib.pyplot as plt"
   ]
  },
  {
   "cell_type": "code",
   "execution_count": 4,
   "metadata": {},
   "outputs": [],
   "source": [
    "# Configuración\n",
    "# -----------------------------------------------------------------------\n",
    "pd.set_option('display.max_columns', None) # para poder visualizar todas las columnas de los DataFrames"
   ]
  },
  {
   "cell_type": "code",
   "execution_count": 5,
   "metadata": {},
   "outputs": [
    {
     "data": {
      "text/html": [
       "<div>\n",
       "<style scoped>\n",
       "    .dataframe tbody tr th:only-of-type {\n",
       "        vertical-align: middle;\n",
       "    }\n",
       "\n",
       "    .dataframe tbody tr th {\n",
       "        vertical-align: top;\n",
       "    }\n",
       "\n",
       "    .dataframe thead th {\n",
       "        text-align: right;\n",
       "    }\n",
       "</style>\n",
       "<table border=\"1\" class=\"dataframe\">\n",
       "  <thead>\n",
       "    <tr style=\"text-align: right;\">\n",
       "      <th></th>\n",
       "      <th>country</th>\n",
       "      <th>density</th>\n",
       "      <th>abbreviation</th>\n",
       "      <th>agricultural_land</th>\n",
       "      <th>land_area</th>\n",
       "      <th>armed_forces_size</th>\n",
       "      <th>birth_rate</th>\n",
       "      <th>calling_code</th>\n",
       "      <th>capital/major_city</th>\n",
       "      <th>co2-emissions</th>\n",
       "      <th>cpi</th>\n",
       "      <th>cpi_change</th>\n",
       "      <th>currency-code</th>\n",
       "      <th>fertility_rate</th>\n",
       "      <th>forested_area</th>\n",
       "      <th>gasoline_price</th>\n",
       "      <th>gdp</th>\n",
       "      <th>gross_primary_education_enrollment</th>\n",
       "      <th>gross_tertiary_education_enrollment</th>\n",
       "      <th>infant_mortality</th>\n",
       "      <th>largest_city</th>\n",
       "      <th>life_expectancy</th>\n",
       "      <th>maternal_mortality_ratio</th>\n",
       "      <th>minimum_wage</th>\n",
       "      <th>official_language</th>\n",
       "      <th>out_of_pocket_health_expenditure</th>\n",
       "      <th>physicians_per_thousand</th>\n",
       "      <th>population</th>\n",
       "      <th>population_labor_force_participation</th>\n",
       "      <th>tax_revenue</th>\n",
       "      <th>total_tax_rate</th>\n",
       "      <th>unemployment_rate</th>\n",
       "      <th>urban_population</th>\n",
       "      <th>latitude</th>\n",
       "      <th>longitude</th>\n",
       "      <th>continent</th>\n",
       "    </tr>\n",
       "  </thead>\n",
       "  <tbody>\n",
       "    <tr>\n",
       "      <th>0</th>\n",
       "      <td>Afghanistan</td>\n",
       "      <td>60.0</td>\n",
       "      <td>AF</td>\n",
       "      <td>58.1</td>\n",
       "      <td>652.230</td>\n",
       "      <td>323.0</td>\n",
       "      <td>32.49</td>\n",
       "      <td>93.0</td>\n",
       "      <td>Kabul</td>\n",
       "      <td>8.672</td>\n",
       "      <td>149.90</td>\n",
       "      <td>2.3</td>\n",
       "      <td>AFN</td>\n",
       "      <td>4.47</td>\n",
       "      <td>2.1</td>\n",
       "      <td>0.70</td>\n",
       "      <td>1.910135e+10</td>\n",
       "      <td>104.0</td>\n",
       "      <td>9.7</td>\n",
       "      <td>47.9</td>\n",
       "      <td>Kabul</td>\n",
       "      <td>64.5</td>\n",
       "      <td>638.0</td>\n",
       "      <td>0.43</td>\n",
       "      <td>Pashto</td>\n",
       "      <td>78.4</td>\n",
       "      <td>0.28</td>\n",
       "      <td>NaN</td>\n",
       "      <td>48.9</td>\n",
       "      <td>9.3</td>\n",
       "      <td>71.4</td>\n",
       "      <td>11.12</td>\n",
       "      <td>NaN</td>\n",
       "      <td>33.939110</td>\n",
       "      <td>67.709953</td>\n",
       "      <td>Asia</td>\n",
       "    </tr>\n",
       "    <tr>\n",
       "      <th>1</th>\n",
       "      <td>Albania</td>\n",
       "      <td>105.0</td>\n",
       "      <td>AL</td>\n",
       "      <td>43.1</td>\n",
       "      <td>28.748</td>\n",
       "      <td>9.0</td>\n",
       "      <td>11.78</td>\n",
       "      <td>355.0</td>\n",
       "      <td>Tirana</td>\n",
       "      <td>4.536</td>\n",
       "      <td>119.05</td>\n",
       "      <td>1.4</td>\n",
       "      <td>ALL</td>\n",
       "      <td>1.62</td>\n",
       "      <td>28.1</td>\n",
       "      <td>1.36</td>\n",
       "      <td>1.527808e+10</td>\n",
       "      <td>107.0</td>\n",
       "      <td>55.0</td>\n",
       "      <td>7.8</td>\n",
       "      <td>Tirana</td>\n",
       "      <td>78.5</td>\n",
       "      <td>15.0</td>\n",
       "      <td>1.12</td>\n",
       "      <td>Albanian</td>\n",
       "      <td>56.9</td>\n",
       "      <td>1.20</td>\n",
       "      <td>NaN</td>\n",
       "      <td>55.7</td>\n",
       "      <td>18.6</td>\n",
       "      <td>36.6</td>\n",
       "      <td>12.33</td>\n",
       "      <td>NaN</td>\n",
       "      <td>41.153332</td>\n",
       "      <td>20.168331</td>\n",
       "      <td>Europe</td>\n",
       "    </tr>\n",
       "    <tr>\n",
       "      <th>2</th>\n",
       "      <td>Algeria</td>\n",
       "      <td>18.0</td>\n",
       "      <td>DZ</td>\n",
       "      <td>17.4</td>\n",
       "      <td>NaN</td>\n",
       "      <td>317.0</td>\n",
       "      <td>24.28</td>\n",
       "      <td>213.0</td>\n",
       "      <td>Algiers</td>\n",
       "      <td>150.006</td>\n",
       "      <td>151.36</td>\n",
       "      <td>2.0</td>\n",
       "      <td>DZD</td>\n",
       "      <td>3.02</td>\n",
       "      <td>0.8</td>\n",
       "      <td>0.28</td>\n",
       "      <td>1.699882e+11</td>\n",
       "      <td>109.9</td>\n",
       "      <td>51.4</td>\n",
       "      <td>20.1</td>\n",
       "      <td>Algiers</td>\n",
       "      <td>76.7</td>\n",
       "      <td>112.0</td>\n",
       "      <td>0.95</td>\n",
       "      <td>Arabic</td>\n",
       "      <td>28.1</td>\n",
       "      <td>1.72</td>\n",
       "      <td>NaN</td>\n",
       "      <td>41.2</td>\n",
       "      <td>37.2</td>\n",
       "      <td>66.1</td>\n",
       "      <td>11.70</td>\n",
       "      <td>NaN</td>\n",
       "      <td>28.033886</td>\n",
       "      <td>1.659626</td>\n",
       "      <td>Africa</td>\n",
       "    </tr>\n",
       "    <tr>\n",
       "      <th>3</th>\n",
       "      <td>Andorra</td>\n",
       "      <td>164.0</td>\n",
       "      <td>AD</td>\n",
       "      <td>40.0</td>\n",
       "      <td>468.000</td>\n",
       "      <td>NaN</td>\n",
       "      <td>7.20</td>\n",
       "      <td>376.0</td>\n",
       "      <td>Andorra la Vella</td>\n",
       "      <td>469.000</td>\n",
       "      <td>NaN</td>\n",
       "      <td>NaN</td>\n",
       "      <td>EUR</td>\n",
       "      <td>1.27</td>\n",
       "      <td>34.0</td>\n",
       "      <td>1.51</td>\n",
       "      <td>3.154058e+09</td>\n",
       "      <td>106.4</td>\n",
       "      <td>NaN</td>\n",
       "      <td>2.7</td>\n",
       "      <td>Andorra la Vella</td>\n",
       "      <td>NaN</td>\n",
       "      <td>NaN</td>\n",
       "      <td>6.63</td>\n",
       "      <td>Catalan</td>\n",
       "      <td>36.4</td>\n",
       "      <td>3.33</td>\n",
       "      <td>77.142</td>\n",
       "      <td>NaN</td>\n",
       "      <td>NaN</td>\n",
       "      <td>NaN</td>\n",
       "      <td>NaN</td>\n",
       "      <td>67.873</td>\n",
       "      <td>42.506285</td>\n",
       "      <td>1.521801</td>\n",
       "      <td>Europe</td>\n",
       "    </tr>\n",
       "    <tr>\n",
       "      <th>4</th>\n",
       "      <td>Angola</td>\n",
       "      <td>26.0</td>\n",
       "      <td>AO</td>\n",
       "      <td>47.5</td>\n",
       "      <td>NaN</td>\n",
       "      <td>117.0</td>\n",
       "      <td>40.73</td>\n",
       "      <td>244.0</td>\n",
       "      <td>Luanda</td>\n",
       "      <td>34.693</td>\n",
       "      <td>261.73</td>\n",
       "      <td>17.1</td>\n",
       "      <td>AOA</td>\n",
       "      <td>5.52</td>\n",
       "      <td>46.3</td>\n",
       "      <td>0.97</td>\n",
       "      <td>9.463542e+10</td>\n",
       "      <td>113.5</td>\n",
       "      <td>9.3</td>\n",
       "      <td>51.6</td>\n",
       "      <td>Luanda</td>\n",
       "      <td>60.8</td>\n",
       "      <td>241.0</td>\n",
       "      <td>0.71</td>\n",
       "      <td>Portuguese</td>\n",
       "      <td>33.4</td>\n",
       "      <td>0.21</td>\n",
       "      <td>NaN</td>\n",
       "      <td>77.5</td>\n",
       "      <td>9.2</td>\n",
       "      <td>49.1</td>\n",
       "      <td>6.89</td>\n",
       "      <td>NaN</td>\n",
       "      <td>-11.202692</td>\n",
       "      <td>17.873887</td>\n",
       "      <td>Africa</td>\n",
       "    </tr>\n",
       "  </tbody>\n",
       "</table>\n",
       "</div>"
      ],
      "text/plain": [
       "       country  density abbreviation  agricultural_land  land_area  \\\n",
       "0  Afghanistan     60.0           AF               58.1    652.230   \n",
       "1      Albania    105.0           AL               43.1     28.748   \n",
       "2      Algeria     18.0           DZ               17.4        NaN   \n",
       "3      Andorra    164.0           AD               40.0    468.000   \n",
       "4       Angola     26.0           AO               47.5        NaN   \n",
       "\n",
       "   armed_forces_size  birth_rate  calling_code capital/major_city  \\\n",
       "0              323.0       32.49          93.0              Kabul   \n",
       "1                9.0       11.78         355.0             Tirana   \n",
       "2              317.0       24.28         213.0            Algiers   \n",
       "3                NaN        7.20         376.0   Andorra la Vella   \n",
       "4              117.0       40.73         244.0             Luanda   \n",
       "\n",
       "   co2-emissions     cpi  cpi_change currency-code  fertility_rate  \\\n",
       "0          8.672  149.90         2.3           AFN            4.47   \n",
       "1          4.536  119.05         1.4           ALL            1.62   \n",
       "2        150.006  151.36         2.0           DZD            3.02   \n",
       "3        469.000     NaN         NaN           EUR            1.27   \n",
       "4         34.693  261.73        17.1           AOA            5.52   \n",
       "\n",
       "   forested_area  gasoline_price           gdp  \\\n",
       "0            2.1            0.70  1.910135e+10   \n",
       "1           28.1            1.36  1.527808e+10   \n",
       "2            0.8            0.28  1.699882e+11   \n",
       "3           34.0            1.51  3.154058e+09   \n",
       "4           46.3            0.97  9.463542e+10   \n",
       "\n",
       "   gross_primary_education_enrollment  gross_tertiary_education_enrollment  \\\n",
       "0                               104.0                                  9.7   \n",
       "1                               107.0                                 55.0   \n",
       "2                               109.9                                 51.4   \n",
       "3                               106.4                                  NaN   \n",
       "4                               113.5                                  9.3   \n",
       "\n",
       "   infant_mortality      largest_city  life_expectancy  \\\n",
       "0              47.9             Kabul             64.5   \n",
       "1               7.8            Tirana             78.5   \n",
       "2              20.1           Algiers             76.7   \n",
       "3               2.7  Andorra la Vella              NaN   \n",
       "4              51.6            Luanda             60.8   \n",
       "\n",
       "   maternal_mortality_ratio  minimum_wage official_language  \\\n",
       "0                     638.0          0.43            Pashto   \n",
       "1                      15.0          1.12          Albanian   \n",
       "2                     112.0          0.95            Arabic   \n",
       "3                       NaN          6.63           Catalan   \n",
       "4                     241.0          0.71        Portuguese   \n",
       "\n",
       "   out_of_pocket_health_expenditure  physicians_per_thousand  population  \\\n",
       "0                              78.4                     0.28         NaN   \n",
       "1                              56.9                     1.20         NaN   \n",
       "2                              28.1                     1.72         NaN   \n",
       "3                              36.4                     3.33      77.142   \n",
       "4                              33.4                     0.21         NaN   \n",
       "\n",
       "   population_labor_force_participation  tax_revenue  total_tax_rate  \\\n",
       "0                                  48.9          9.3            71.4   \n",
       "1                                  55.7         18.6            36.6   \n",
       "2                                  41.2         37.2            66.1   \n",
       "3                                   NaN          NaN             NaN   \n",
       "4                                  77.5          9.2            49.1   \n",
       "\n",
       "   unemployment_rate  urban_population   latitude  longitude continent  \n",
       "0              11.12               NaN  33.939110  67.709953      Asia  \n",
       "1              12.33               NaN  41.153332  20.168331    Europe  \n",
       "2              11.70               NaN  28.033886   1.659626    Africa  \n",
       "3                NaN            67.873  42.506285   1.521801    Europe  \n",
       "4               6.89               NaN -11.202692  17.873887    Africa  "
      ]
     },
     "execution_count": 5,
     "metadata": {},
     "output_type": "execute_result"
    }
   ],
   "source": [
    "df = pd.read_csv(\"File/world_data_full_apply.csv\", index_col=0)\n",
    "\n",
    "df.head()"
   ]
  },
  {
   "cell_type": "code",
   "execution_count": null,
   "metadata": {},
   "outputs": [
    {
     "data": {
      "text/plain": [
       "abbreviation                              7\n",
       "agricultural_land                         7\n",
       "land_area                                30\n",
       "armed_forces_size                        29\n",
       "birth_rate                                6\n",
       "calling_code                              1\n",
       "capital/major_city                        3\n",
       "co2-emissions                            12\n",
       "cpi                                      20\n",
       "cpi_change                               16\n",
       "currency-code                            15\n",
       "fertility_rate                            7\n",
       "forested_area                             7\n",
       "gasoline_price                           20\n",
       "gdp                                       2\n",
       "gross_primary_education_enrollment        7\n",
       "gross_tertiary_education_enrollment      12\n",
       "infant_mortality                          6\n",
       "largest_city                              6\n",
       "life_expectancy                           8\n",
       "maternal_mortality_ratio                 14\n",
       "minimum_wage                             45\n",
       "official_language                         5\n",
       "out_of_pocket_health_expenditure          7\n",
       "physicians_per_thousand                   7\n",
       "population                              156\n",
       "population_labor_force_participation     19\n",
       "tax_revenue                              26\n",
       "total_tax_rate                           12\n",
       "unemployment_rate                        19\n",
       "urban_population                        150\n",
       "latitude                                  1\n",
       "longitude                                 1\n",
       "continent                                 1\n",
       "dtype: int64"
      ]
     },
     "execution_count": 6,
     "metadata": {},
     "output_type": "execute_result"
    }
   ],
   "source": [
    "df_nulos = df.isnull().sum()[df.isnull().sum() > 0] # sacamos todas las columnas con valores nulos \n",
    "df_nulos"
   ]
  },
  {
   "cell_type": "code",
   "execution_count": null,
   "metadata": {},
   "outputs": [
    {
     "name": "stdout",
     "output_type": "stream",
     "text": [
      "<class 'pandas.core.frame.DataFrame'>\n",
      "Index: 195 entries, 0 to 194\n",
      "Data columns (total 34 columns):\n",
      " #   Column                                Non-Null Count  Dtype  \n",
      "---  ------                                --------------  -----  \n",
      " 0   abbreviation                          188 non-null    object \n",
      " 1   agricultural_land                     188 non-null    float64\n",
      " 2   land_area                             165 non-null    float64\n",
      " 3   armed_forces_size                     166 non-null    float64\n",
      " 4   birth_rate                            189 non-null    float64\n",
      " 5   calling_code                          194 non-null    float64\n",
      " 6   capital/major_city                    192 non-null    object \n",
      " 7   co2-emissions                         183 non-null    float64\n",
      " 8   cpi                                   175 non-null    float64\n",
      " 9   cpi_change                            179 non-null    float64\n",
      " 10  currency-code                         180 non-null    object \n",
      " 11  fertility_rate                        188 non-null    float64\n",
      " 12  forested_area                         188 non-null    float64\n",
      " 13  gasoline_price                        175 non-null    float64\n",
      " 14  gdp                                   193 non-null    float64\n",
      " 15  gross_primary_education_enrollment    188 non-null    float64\n",
      " 16  gross_tertiary_education_enrollment   183 non-null    float64\n",
      " 17  infant_mortality                      189 non-null    float64\n",
      " 18  largest_city                          189 non-null    object \n",
      " 19  life_expectancy                       187 non-null    float64\n",
      " 20  maternal_mortality_ratio              181 non-null    float64\n",
      " 21  minimum_wage                          150 non-null    float64\n",
      " 22  official_language                     190 non-null    object \n",
      " 23  out_of_pocket_health_expenditure      188 non-null    float64\n",
      " 24  physicians_per_thousand               188 non-null    float64\n",
      " 25  population                            39 non-null     float64\n",
      " 26  population_labor_force_participation  176 non-null    float64\n",
      " 27  tax_revenue                           169 non-null    float64\n",
      " 28  total_tax_rate                        183 non-null    float64\n",
      " 29  unemployment_rate                     176 non-null    float64\n",
      " 30  urban_population                      45 non-null     float64\n",
      " 31  latitude                              194 non-null    float64\n",
      " 32  longitude                             194 non-null    float64\n",
      " 33  continent                             194 non-null    object \n",
      "dtypes: float64(28), object(6)\n",
      "memory usage: 53.3+ KB\n"
     ]
    }
   ],
   "source": [
    "columnas_con_nulos = df.columns[df.isnull().any()] # extrae los nulos y el tipo de datos que contiene \n",
    "columnas_con_nulos\n",
    "df[columnas_con_nulos].info()"
   ]
  },
  {
   "cell_type": "code",
   "execution_count": 9,
   "metadata": {},
   "outputs": [
    {
     "name": "stdout",
     "output_type": "stream",
     "text": [
      "Las columnas categóricas que tienen nulos son : \n",
      " \n",
      "Index(['abbreviation', 'capital/major_city', 'currency-code', 'largest_city',\n",
      "       'official_language', 'continent'],\n",
      "      dtype='object')\n"
     ]
    }
   ],
   "source": [
    "nulos_object = df[df.columns[df.isnull().any()]].select_dtypes(include = \"O\").columns\n",
    "print(\"Las columnas categóricas que tienen nulos son : \\n \")\n",
    "print(nulos_object)"
   ]
  },
  {
   "cell_type": "code",
   "execution_count": null,
   "metadata": {},
   "outputs": [
    {
     "name": "stdout",
     "output_type": "stream",
     "text": [
      "La distribución de las categorías para la columna ABBREVIATION\n"
     ]
    },
    {
     "data": {
      "text/plain": [
       "abbreviation\n",
       "AF    0.005128\n",
       "AL    0.005128\n",
       "DZ    0.005128\n",
       "AD    0.005128\n",
       "AO    0.005128\n",
       "        ...   \n",
       "VE    0.005128\n",
       "VN    0.005128\n",
       "YE    0.005128\n",
       "ZM    0.005128\n",
       "ZW    0.005128\n",
       "Name: count, Length: 188, dtype: float64"
      ]
     },
     "metadata": {},
     "output_type": "display_data"
    },
    {
     "name": "stdout",
     "output_type": "stream",
     "text": [
      "...........................\n",
      "La distribución de las categorías para la columna CAPITAL/MAJOR_CITY\n"
     ]
    },
    {
     "data": {
      "text/plain": [
       "capital/major_city\n",
       "Kabul               0.005128\n",
       "Tirana              0.005128\n",
       "Algiers             0.005128\n",
       "Andorra la Vella    0.005128\n",
       "Luanda              0.005128\n",
       "                      ...   \n",
       "Caracas             0.005128\n",
       "Hanoi               0.005128\n",
       "Sanaa               0.005128\n",
       "Lusaka              0.005128\n",
       "Harare              0.005128\n",
       "Name: count, Length: 192, dtype: float64"
      ]
     },
     "metadata": {},
     "output_type": "display_data"
    },
    {
     "name": "stdout",
     "output_type": "stream",
     "text": [
      "...........................\n",
      "La distribución de las categorías para la columna CURRENCY-CODE\n"
     ]
    },
    {
     "data": {
      "text/plain": [
       "currency-code\n",
       "EUR    0.117949\n",
       "XOF    0.041026\n",
       "XCD    0.030769\n",
       "USD    0.030769\n",
       "XAF    0.025641\n",
       "         ...   \n",
       "VUV    0.005128\n",
       "VED    0.005128\n",
       "VND    0.005128\n",
       "YER    0.005128\n",
       "ZMW    0.005128\n",
       "Name: count, Length: 133, dtype: float64"
      ]
     },
     "metadata": {},
     "output_type": "display_data"
    },
    {
     "name": "stdout",
     "output_type": "stream",
     "text": [
      "...........................\n",
      "La distribución de las categorías para la columna LARGEST_CITY\n"
     ]
    },
    {
     "data": {
      "text/plain": [
       "largest_city\n",
       "S����               0.010256\n",
       "Kabul               0.005128\n",
       "Algiers             0.005128\n",
       "Tirana              0.005128\n",
       "Luanda              0.005128\n",
       "                      ...   \n",
       "Caracas             0.005128\n",
       "Ho Chi Minh City    0.005128\n",
       "Sanaa               0.005128\n",
       "Lusaka              0.005128\n",
       "Harare              0.005128\n",
       "Name: count, Length: 188, dtype: float64"
      ]
     },
     "metadata": {},
     "output_type": "display_data"
    },
    {
     "name": "stdout",
     "output_type": "stream",
     "text": [
      "...........................\n",
      "La distribución de las categorías para la columna OFFICIAL_LANGUAGE\n"
     ]
    },
    {
     "data": {
      "text/plain": [
       "official_language\n",
       "English              0.158974\n",
       "French               0.128205\n",
       "Spanish              0.097436\n",
       "Arabic               0.092308\n",
       "Portuguese           0.035897\n",
       "                       ...   \n",
       "Tuvaluan Language    0.005128\n",
       "Ukrainian            0.005128\n",
       "Uzbek                0.005128\n",
       "Vietnamese           0.005128\n",
       "Shona                0.005128\n",
       "Name: count, Length: 76, dtype: float64"
      ]
     },
     "metadata": {},
     "output_type": "display_data"
    },
    {
     "name": "stdout",
     "output_type": "stream",
     "text": [
      "...........................\n",
      "La distribución de las categorías para la columna CONTINENT\n"
     ]
    },
    {
     "data": {
      "text/plain": [
       "continent\n",
       "Africa             0.271795\n",
       "Europe             0.241026\n",
       "Asia               0.230769\n",
       "Central America    0.102564\n",
       "Oceania            0.071795\n",
       "South America      0.066667\n",
       "North America      0.010256\n",
       "Name: count, dtype: float64"
      ]
     },
     "metadata": {},
     "output_type": "display_data"
    },
    {
     "name": "stdout",
     "output_type": "stream",
     "text": [
      "...........................\n"
     ]
    }
   ],
   "source": [
    "for col in nulos_object: # esto permite ver cuales son los valores que más aparecen y en función de esto decidir como se cambian los nulos\n",
    "    print(f'La distribución de las categorías para la columna {col.upper()}')\n",
    "    display(df[col].value_counts()/df.shape[0])\n",
    "    print('...........................')"
   ]
  },
  {
   "cell_type": "code",
   "execution_count": null,
   "metadata": {},
   "outputs": [
    {
     "data": {
      "text/plain": [
       "country                                  0.000000\n",
       "density                                  0.000000\n",
       "abbreviation                             3.589744\n",
       "agricultural_land                        3.589744\n",
       "land_area                               15.384615\n",
       "armed_forces_size                       14.871795\n",
       "birth_rate                               3.076923\n",
       "calling_code                             0.512821\n",
       "capital/major_city                       1.538462\n",
       "co2-emissions                            6.153846\n",
       "cpi                                     10.256410\n",
       "cpi_change                               8.205128\n",
       "currency-code                            7.692308\n",
       "fertility_rate                           3.589744\n",
       "forested_area                            3.589744\n",
       "gasoline_price                          10.256410\n",
       "gdp                                      1.025641\n",
       "gross_primary_education_enrollment       3.589744\n",
       "gross_tertiary_education_enrollment      6.153846\n",
       "infant_mortality                         3.076923\n",
       "largest_city                             3.076923\n",
       "life_expectancy                          4.102564\n",
       "maternal_mortality_ratio                 7.179487\n",
       "minimum_wage                            23.076923\n",
       "official_language                        2.564103\n",
       "out_of_pocket_health_expenditure         3.589744\n",
       "physicians_per_thousand                  3.589744\n",
       "population                              80.000000\n",
       "population_labor_force_participation     9.743590\n",
       "tax_revenue                             13.333333\n",
       "total_tax_rate                           6.153846\n",
       "unemployment_rate                        9.743590\n",
       "urban_population                        76.923077\n",
       "latitude                                 0.512821\n",
       "longitude                                0.512821\n",
       "continent                                0.512821\n",
       "dtype: float64"
      ]
     },
     "execution_count": 11,
     "metadata": {},
     "output_type": "execute_result"
    }
   ],
   "source": [
    "(df.isnull().sum() / len(df)) * 100 # esto permite ver ver el % de nulos dentro de cada columna"
   ]
  },
  {
   "cell_type": "markdown",
   "metadata": {},
   "source": [
    "Las columnas categóricas que tienen nulos son : ['abbreviation', 'capital/major_city', 'currency-code', 'largest_city',    'official_language', 'continent'] vamos a reemplazarla por NaN\n"
   ]
  },
  {
   "cell_type": "code",
   "execution_count": 12,
   "metadata": {},
   "outputs": [
    {
     "name": "stdout",
     "output_type": "stream",
     "text": [
      "Después del reemplazo usando 'fillna' quedan los siguientes nulos\n"
     ]
    },
    {
     "data": {
      "text/plain": [
       "abbreviation          0\n",
       "capital/major_city    0\n",
       "currency-code         0\n",
       "largest_city          0\n",
       "official_language     0\n",
       "continent             0\n",
       "dtype: int64"
      ]
     },
     "execution_count": 12,
     "metadata": {},
     "output_type": "execute_result"
    }
   ],
   "source": [
    "for col in nulos_object:\n",
    "   # utilizando el método fillna reemplazamos los valores nulos por la Unknown calculada en el paso anterior.\n",
    "    df[col] = df[col].fillna(\"Unknown\") \n",
    "# por último chequeamos si se han eliminado los nulos en las columnas\n",
    "print(\"Después del reemplazo usando 'fillna' quedan los siguientes nulos\")\n",
    "df[nulos_object].isnull().sum()"
   ]
  },
  {
   "cell_type": "markdown",
   "metadata": {},
   "source": [
    "# Cambios de nulos en las columnas numericas "
   ]
  },
  {
   "cell_type": "code",
   "execution_count": 13,
   "metadata": {},
   "outputs": [
    {
     "name": "stdout",
     "output_type": "stream",
     "text": [
      "Las columnas numéricas que tienen nulos son : \n",
      " \n",
      "Index(['agricultural_land', 'land_area', 'armed_forces_size', 'birth_rate',\n",
      "       'calling_code', 'co2-emissions', 'cpi', 'cpi_change', 'fertility_rate',\n",
      "       'forested_area', 'gasoline_price', 'gdp',\n",
      "       'gross_primary_education_enrollment',\n",
      "       'gross_tertiary_education_enrollment', 'infant_mortality',\n",
      "       'life_expectancy', 'maternal_mortality_ratio', 'minimum_wage',\n",
      "       'out_of_pocket_health_expenditure', 'physicians_per_thousand',\n",
      "       'population', 'population_labor_force_participation', 'tax_revenue',\n",
      "       'total_tax_rate', 'unemployment_rate', 'urban_population', 'latitude',\n",
      "       'longitude'],\n",
      "      dtype='object')\n"
     ]
    }
   ],
   "source": [
    "nulos_float = df[df.columns[df.isnull().any()]].select_dtypes(include = np.number).columns\n",
    "print(\"Las columnas numéricas que tienen nulos son : \\n \")\n",
    "print(nulos_float)"
   ]
  },
  {
   "cell_type": "code",
   "execution_count": null,
   "metadata": {},
   "outputs": [
    {
     "data": {
      "text/plain": [
       "agricultural_land                       0.035897\n",
       "land_area                               0.153846\n",
       "armed_forces_size                       0.148718\n",
       "birth_rate                              0.030769\n",
       "calling_code                            0.005128\n",
       "co2-emissions                           0.061538\n",
       "cpi                                     0.102564\n",
       "cpi_change                              0.082051\n",
       "fertility_rate                          0.035897\n",
       "forested_area                           0.035897\n",
       "gasoline_price                          0.102564\n",
       "gdp                                     0.010256\n",
       "gross_primary_education_enrollment      0.035897\n",
       "gross_tertiary_education_enrollment     0.061538\n",
       "infant_mortality                        0.030769\n",
       "life_expectancy                         0.041026\n",
       "maternal_mortality_ratio                0.071795\n",
       "minimum_wage                            0.230769\n",
       "out_of_pocket_health_expenditure        0.035897\n",
       "physicians_per_thousand                 0.035897\n",
       "population                              0.800000\n",
       "population_labor_force_participation    0.097436\n",
       "tax_revenue                             0.133333\n",
       "total_tax_rate                          0.061538\n",
       "unemployment_rate                       0.097436\n",
       "urban_population                        0.769231\n",
       "latitude                                0.005128\n",
       "longitude                               0.005128\n",
       "dtype: float64"
      ]
     },
     "execution_count": 14,
     "metadata": {},
     "output_type": "execute_result"
    }
   ],
   "source": [
    "df[nulos_float].isnull().sum()/df.shape[0] "
   ]
  },
  {
   "cell_type": "code",
   "execution_count": null,
   "metadata": {},
   "outputs": [],
   "source": []
  },
  {
   "cell_type": "code",
   "execution_count": null,
   "metadata": {},
   "outputs": [],
   "source": []
  },
  {
   "cell_type": "code",
   "execution_count": null,
   "metadata": {},
   "outputs": [],
   "source": []
  },
  {
   "cell_type": "code",
   "execution_count": null,
   "metadata": {},
   "outputs": [],
   "source": []
  }
 ],
 "metadata": {
  "kernelspec": {
   "display_name": "promo49",
   "language": "python",
   "name": "python3"
  },
  "language_info": {
   "codemirror_mode": {
    "name": "ipython",
    "version": 3
   },
   "file_extension": ".py",
   "mimetype": "text/x-python",
   "name": "python",
   "nbconvert_exporter": "python",
   "pygments_lexer": "ipython3",
   "version": "3.11.11"
  }
 },
 "nbformat": 4,
 "nbformat_minor": 2
}
